{
 "cells": [
  {
   "cell_type": "markdown",
   "metadata": {},
   "source": [
    "## Question 1"
   ]
  },
  {
   "cell_type": "markdown",
   "metadata": {},
   "source": [
    "- `Take two integer numbers and return their product. If the product is greater than 1000, then return their sum if product is less than 1000 return product value only.`\n",
    "\n"
   ]
  },
  {
   "cell_type": "code",
   "execution_count": null,
   "metadata": {},
   "outputs": [],
   "source": [
    "# Please write The solution Here for above question 1:\n",
    "a=50\n",
    "b=100\n",
    "c=a*b\n",
    "print(c)\n",
    "\n",
    "if c>1000:\n",
    " print(a+b)\n",
    "if c<1000:\n",
    " print(c)\n",
    "\n",
    "\n",
    "\n",
    "\n"
   ]
  },
  {
   "cell_type": "markdown",
   "metadata": {},
   "source": [
    "## question 2 "
   ]
  },
  {
   "cell_type": "markdown",
   "metadata": {},
   "source": [
    "- `Given a range of the first 10 numbers, Iterate from the start number to the end number, and In each iteration print the sum of the current number and previous number`\n",
    "\n",
    "Expected output:\n",
    "-----------------\n",
    "    Printing current and previous number sum in a range(10)\n",
    "    Current Number 0 Previous Number  0  Sum:  0\n",
    "    Current Number 1 Previous Number  0  Sum:  1\n",
    "    Current Number 2 Previous Number  1  Sum:  3\n",
    "    Current Number 3 Previous Number  2  Sum:  5\n",
    "    Current Number 4 Previous Number  3  Sum:  7\n",
    "    Current Number 5 Previous Number  4  Sum:  9\n",
    "    Current Number 6 Previous Number  5  Sum:  11\n",
    "    Current Number 7 Previous Number  6  Sum:  13\n",
    "    Current Number 8 Previous Number  7  Sum:  15\n",
    "    Current Number 9 Previous Number  8  Sum:  17"
   ]
  },
  {
   "cell_type": "code",
   "execution_count": 2,
   "metadata": {},
   "outputs": [],
   "source": [
    "# Please write The solution Here for above question 2:\n",
    "for i in range (10):\n",
    "  print('current number',i,'previous number',i*1,'sum',i+i*1)\n",
    "\n"
   ]
  },
  {
   "cell_type": "markdown",
   "metadata": {},
   "source": [
    "## question 3 "
   ]
  },
  {
   "cell_type": "markdown",
   "metadata": {},
   "source": [
    "Given a string and an integer number n, remove characters from a string starting from zero up to n and return a new string\n",
    "\n",
    "- Example :\n",
    "     `(\"pynative\", 4) so output must be tive.`\n",
    "     \n",
    "     `Note: n must be less than the length of the string.`"
   ]
  },
  {
   "cell_type": "code",
   "execution_count": null,
   "metadata": {},
   "outputs": [],
   "source": [
    "# Please write The solution Here for above question 3:\n",
    "\n",
    "\n"
   ]
  },
  {
   "cell_type": "markdown",
   "metadata": {},
   "source": [
    "## question 4"
   ]
  },
  {
   "cell_type": "markdown",
   "metadata": {},
   "source": [
    "### `Given a list of numbers, return True if first and last number of a list is same`\n",
    "\n",
    "    Expected Output:\n",
    "    -------------------------------------\n",
    "\n",
    "    Given list is \n",
    "    a =  [10, 20, 30, 40, 10]\n",
    "    b = [10 , 20 , 30 , 40, 10 ]\n",
    "    result is True\n",
    "\n",
    "    Given list is  \n",
    "    a = [10, 20, 30, 40, 50]\n",
    "    b = [11 , 21 , 31 , 41 , 51 ] \n",
    "    result is False"
   ]
  },
  {
   "cell_type": "code",
   "execution_count": 3,
   "metadata": {},
   "outputs": [],
   "source": [
    "# Please write The solution Here for above question 4:\n",
    "\n",
    "\n"
   ]
  },
  {
   "cell_type": "markdown",
   "metadata": {},
   "source": [
    "## question 5"
   ]
  },
  {
   "cell_type": "markdown",
   "metadata": {},
   "source": [
    "### Given a two Python list. Iterate both lists simultaneously such that list1 should display item in original order and list2 in reverse order\n",
    "\n",
    "    list1 = [10, 20, 30, 40]\n",
    "    list2 = [100, 200, 300, 400]\n",
    "\n",
    "\n",
    "    Expected output:\n",
    "    -----------------------------\n",
    "    10 400\n",
    "    20 300\n",
    "    30 200\n",
    "    40 100"
   ]
  },
  {
   "cell_type": "code",
   "execution_count": 4,
   "metadata": {},
   "outputs": [],
   "source": [
    "# Please write The solution Here for above question 5:\n",
    "\n",
    "\n",
    "\n"
   ]
  },
  {
   "cell_type": "markdown",
   "metadata": {},
   "source": [
    "## question 6 "
   ]
  },
  {
   "cell_type": "markdown",
   "metadata": {},
   "source": [
    "### Remove empty strings from the list of strings\n",
    "\n",
    "\n",
    "    list1 = [\"Mike\", \"\", \"Emma\", \"Kelly\", \"\", \"Brad\"]\n",
    "\n",
    "    Expected output:\n",
    "    ----------------------\n",
    "\n",
    "    [\"Mike\", \"Emma\", \"Kelly\", \"Brad\"]\n"
   ]
  },
  {
   "cell_type": "code",
   "execution_count": 5,
   "metadata": {},
   "outputs": [],
   "source": [
    "# Please write The solution Here for above question 6:\n",
    "\n",
    "\n"
   ]
  },
  {
   "cell_type": "code",
   "execution_count": null,
   "metadata": {},
   "outputs": [],
   "source": [
    "# hr.viharatech@gmail.com"
   ]
  }
 ],
 "metadata": {
  "kernelspec": {
   "display_name": "Python 3 (ipykernel)",
   "language": "python",
   "name": "python3"
  },
  "language_info": {
   "codemirror_mode": {
    "name": "ipython",
    "version": 3
   },
   "file_extension": ".py",
   "mimetype": "text/x-python",
   "name": "python",
   "nbconvert_exporter": "python",
   "pygments_lexer": "ipython3",
   "version": "3.11.5"
  }
 },
 "nbformat": 4,
 "nbformat_minor": 4
}
